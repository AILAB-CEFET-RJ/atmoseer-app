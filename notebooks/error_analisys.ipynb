{
 "cells": [
  {
   "cell_type": "code",
   "execution_count": 19,
   "id": "c2b5a463",
   "metadata": {},
   "outputs": [],
   "source": [
    "import pickle\n",
    "import numpy as np\n",
    "#\n",
    "# Load np arrays (stored in a pickle file) from disk\n",
    "#\n",
    "pipeline_id = \"A652_E-N_EI\"\n",
    "file = open(\"../data/datasets/\" + pipeline_id + \".pickle\", 'rb')\n",
    "(X_train, y_train,  \n",
    " X_val, y_val,  \n",
    " X_test, y_test) = pickle.load(file)"
   ]
  },
  {
   "cell_type": "code",
   "execution_count": 11,
   "id": "16c26705",
   "metadata": {},
   "outputs": [
    {
     "name": "stdout",
     "output_type": "stream",
     "text": [
      "===\n",
      "0/13468\n",
      "===\n",
      "0/3402\n",
      "===\n",
      "0/1841\n"
     ]
    }
   ],
   "source": [
    "def check_nans(X):\n",
    "    n = 0\n",
    "    for i in range(len(X)):\n",
    "        if np.isnan(X[i]).any():\n",
    "#             print(i)\n",
    "            n += 1\n",
    "    print(\"===\")\n",
    "    print(f\"{n}/{len(X)}\")\n",
    "\n",
    "check_nans(X_train)\n",
    "check_nans(X_val)\n",
    "check_nans(X_test)"
   ]
  },
  {
   "cell_type": "code",
   "execution_count": 27,
   "id": "29317f26",
   "metadata": {},
   "outputs": [
    {
     "data": {
      "text/plain": [
       "((13438, 6, 23), (13438, 1))"
      ]
     },
     "execution_count": 27,
     "metadata": {},
     "output_type": "execute_result"
    }
   ],
   "source": [
    "X_train.shape, y_train.shape"
   ]
  },
  {
   "cell_type": "code",
   "execution_count": 30,
   "id": "c2d4d03b",
   "metadata": {},
   "outputs": [
    {
     "data": {
      "text/plain": [
       "(13438, 138)"
      ]
     },
     "execution_count": 30,
     "metadata": {},
     "output_type": "execute_result"
    }
   ],
   "source": [
    "X_train.reshape(X_train.shape[0], -1).shape"
   ]
  },
  {
   "cell_type": "code",
   "execution_count": 31,
   "id": "3a7dd40b",
   "metadata": {},
   "outputs": [
    {
     "data": {
      "text/plain": [
       "array([0.28270042, 0.42532468, 0.88043478, 0.55298955, 0.49021567,\n",
       "       0.0669873 , 0.75      , 0.        , 0.47084295, 0.77661105,\n",
       "       0.34322122, 0.65790253, 0.61430599, 0.4604812 , 0.63507115,\n",
       "       0.47572388, 0.56098719, 0.45890779, 0.49150801, 0.55432072,\n",
       "       0.40529632, 0.91846377, 0.51415201, 0.28691983, 0.42532468,\n",
       "       0.85869565, 0.5116869 , 0.49479697, 0.14644661, 0.85355339,\n",
       "       0.        , 0.45943257, 0.78837189, 0.33323012, 0.57246987,\n",
       "       0.44336747, 0.4589551 , 0.58158016, 0.51030118, 0.5824785 ,\n",
       "       0.40450517, 0.49478917, 0.44937618, 0.40798718, 0.92429734,\n",
       "       0.53827394, 0.32911392, 0.4025974 , 0.7826087 , 0.52077741,\n",
       "       0.3106947 , 0.25      , 0.9330127 , 0.        , 0.43550781,\n",
       "       0.77795329, 0.33897863, 0.46064091, 0.31694858, 0.46785991,\n",
       "       0.63055932, 0.58626187, 0.65398988, 0.43364828, 0.51080056,\n",
       "       0.59459122, 0.38855501, 0.90917683, 0.53960404, 0.29957806,\n",
       "       0.36038961, 0.84782609, 0.53799411, 0.38369531, 0.37059048,\n",
       "       0.98296291, 0.        , 0.42943479, 0.77111421, 0.33549148,\n",
       "       0.41688397, 0.27343229, 0.48567112, 0.6841774 , 0.60618288,\n",
       "       0.66751443, 0.53733421, 0.52009355, 0.71353882, 0.39622574,\n",
       "       0.87453313, 0.52764699, 0.33333333, 0.36363636, 0.79347826,\n",
       "       0.48054973, 0.25904546, 0.5       , 1.        , 0.        ,\n",
       "       0.41231942, 0.76783317, 0.33454263, 0.41350826, 0.29184213,\n",
       "       0.4849078 , 0.67053063, 0.62330442, 0.64598875, 0.56777721,\n",
       "       0.52857193, 0.69732725, 0.41520022, 0.82835984, 0.49928536,\n",
       "       0.31223629, 0.3538961 , 0.82608696, 0.39705608, 0.41139484,\n",
       "       0.62940952, 0.98296291, 0.        , 0.39446802, 0.76054663,\n",
       "       0.3346534 , 0.42223937, 0.3183719 , 0.47065873, 0.65211779,\n",
       "       0.62818872, 0.63093279, 0.53035335, 0.53622499, 0.54149242,\n",
       "       0.40996556, 0.81703666, 0.48901864])"
      ]
     },
     "execution_count": 31,
     "metadata": {},
     "output_type": "execute_result"
    }
   ],
   "source": [
    "X_train2D = X_train.reshape(X_train.shape[0], -1)\n",
    "X_train2D[0]"
   ]
  },
  {
   "cell_type": "code",
   "execution_count": 32,
   "id": "0caa5584",
   "metadata": {},
   "outputs": [
    {
     "name": "stdout",
     "output_type": "stream",
     "text": [
      "Row wise maximum:  [1.         1.         0.98296291 ... 0.85355339 1.         1.        ]\n",
      "Column wise maximum:  [1.         0.98376623 1.         0.9256309  1.         1.\n",
      " 1.         0.61842105 0.98662084 0.97717549 0.99605977 1.\n",
      " 1.         0.95996416 0.99561211 0.96795791 0.94204832 0.99029426\n",
      " 0.98506261 0.96797863 0.97064114 0.99302525 0.91237017 1.\n",
      " 1.         1.         0.98535808 1.         1.         1.\n",
      " 0.61842105 0.99798394 0.98430862 0.99164965 0.99504111 1.\n",
      " 0.98074118 1.         0.96990688 0.98291237 0.98561348 0.99393115\n",
      " 1.         0.97224847 1.         0.90609005 0.92827004 1.\n",
      " 1.         0.96734103 1.         1.         1.         0.61513158\n",
      " 1.         0.99232817 1.         0.95665503 1.         0.99746457\n",
      " 0.99509656 0.98112446 1.         0.97544255 1.         0.96797863\n",
      " 0.97064114 1.         0.96310261 0.94514768 0.99675325 1.\n",
      " 0.97720432 1.         1.         1.         1.         0.99413499\n",
      " 0.99232817 1.         0.93340244 1.         1.         0.99561211\n",
      " 0.98362843 0.97660682 1.         0.99590337 1.         0.96177404\n",
      " 1.         0.94794501 1.         0.97402597 1.         0.97720432\n",
      " 1.         1.         1.         1.         0.96682635 0.97770107\n",
      " 0.94710489 0.93276012 1.         0.96933887 0.99561211 0.98152866\n",
      " 0.94640299 0.99414514 0.99393115 1.         0.95869731 0.99775423\n",
      " 0.91774065 1.         0.97727273 1.         0.97720432 1.\n",
      " 1.         1.         1.         0.97250832 0.97770107 0.99164965\n",
      " 0.95912166 1.         0.95692249 0.99561211 0.99013358 0.94109033\n",
      " 0.98561348 1.         0.96231034 0.93552268 0.99775423 0.91237017]\n"
     ]
    }
   ],
   "source": [
    "max_value_twod_row = np.amax(X_train2D, axis = 1)\n",
    "max_value_twod_col = np.amax(X_train2D, axis = 0)\n",
    "\n",
    "print(\"Row wise maximum: \", max_value_twod_row)\n",
    "print(\"Column wise maximum: \", max_value_twod_col)"
   ]
  },
  {
   "cell_type": "code",
   "execution_count": 33,
   "id": "2305d327",
   "metadata": {},
   "outputs": [
    {
     "data": {
      "text/plain": [
       "(array([0.]), array([60.8]))"
      ]
     },
     "execution_count": 33,
     "metadata": {},
     "output_type": "execute_result"
    }
   ],
   "source": [
    "min(y_train), max(y_train)"
   ]
  },
  {
   "cell_type": "code",
   "execution_count": 12,
   "id": "4092c6cf",
   "metadata": {},
   "outputs": [
    {
     "name": "stdout",
     "output_type": "stream",
     "text": [
      "23\n",
      "Evaluating ordinal classification model...\n"
     ]
    }
   ],
   "source": [
    "import sys \n",
    "import os\n",
    "sys.path.append(os.path.abspath(\"../src\"))\n",
    "import utils\n",
    "\n",
    "from utils.model import NetOrdinalClassification\n",
    "import torch\n",
    "\n",
    "NUM_FEATURES = X_train.shape[2]\n",
    "print(NUM_FEATURES)\n",
    "\n",
    "NUM_CLASSES = 5\n",
    "\n",
    "# see https://pytorch.org/tutorials/beginner/saving_loading_models.html\n",
    "model = NetOrdinalClassification(in_channels=NUM_FEATURES, num_classes=NUM_CLASSES)\n",
    "model.load_state_dict(torch.load('../models/best_' + pipeline_id + '.pt'))\n",
    "model.eval()\n",
    "\n",
    "y_pred = model.predict(X_test)"
   ]
  },
  {
   "cell_type": "code",
   "execution_count": 35,
   "id": "6756c666",
   "metadata": {},
   "outputs": [
    {
     "data": {
      "text/plain": [
       "(1832, 1)"
      ]
     },
     "execution_count": 35,
     "metadata": {},
     "output_type": "execute_result"
    }
   ],
   "source": [
    "y_pred.shape"
   ]
  },
  {
   "cell_type": "code",
   "execution_count": 15,
   "id": "1ff484c1",
   "metadata": {},
   "outputs": [
    {
     "data": {
      "text/plain": [
       "(963, 6, 23)"
      ]
     },
     "execution_count": 15,
     "metadata": {},
     "output_type": "execute_result"
    }
   ],
   "source": [
    "X_test.shape"
   ]
  },
  {
   "cell_type": "code",
   "execution_count": 36,
   "id": "132f0fea",
   "metadata": {
    "scrolled": false
   },
   "outputs": [
    {
     "data": {
      "text/plain": [
       "(1832, 1)"
      ]
     },
     "execution_count": 36,
     "metadata": {},
     "output_type": "execute_result"
    }
   ],
   "source": [
    "y_test.shape"
   ]
  },
  {
   "cell_type": "code",
   "execution_count": 13,
   "id": "71e4730a",
   "metadata": {},
   "outputs": [
    {
     "data": {
      "text/plain": [
       "array([[0],\n",
       "       [0],\n",
       "       [0],\n",
       "       ...,\n",
       "       [0],\n",
       "       [0],\n",
       "       [0]])"
      ]
     },
     "execution_count": 13,
     "metadata": {},
     "output_type": "execute_result"
    }
   ],
   "source": [
    "y_pred"
   ]
  },
  {
   "cell_type": "code",
   "execution_count": 14,
   "id": "055879dd",
   "metadata": {},
   "outputs": [
    {
     "data": {
      "text/plain": [
       "(array([0]), array([1]), array([0.]), array([64.4]))"
      ]
     },
     "execution_count": 14,
     "metadata": {},
     "output_type": "execute_result"
    }
   ],
   "source": [
    "min(y_pred), max(y_pred), min(y_test), max(y_test)"
   ]
  },
  {
   "cell_type": "code",
   "execution_count": 38,
   "id": "25a4b357",
   "metadata": {},
   "outputs": [
    {
     "data": {
      "text/plain": [
       "(1832,)"
      ]
     },
     "execution_count": 38,
     "metadata": {},
     "output_type": "execute_result"
    }
   ],
   "source": [
    "y_test.ravel().shape"
   ]
  },
  {
   "cell_type": "code",
   "execution_count": 20,
   "id": "d62ecb10",
   "metadata": {},
   "outputs": [
    {
     "data": {
      "text/html": [
       "<div>\n",
       "<style scoped>\n",
       "    .dataframe tbody tr th:only-of-type {\n",
       "        vertical-align: middle;\n",
       "    }\n",
       "\n",
       "    .dataframe tbody tr th {\n",
       "        vertical-align: top;\n",
       "    }\n",
       "\n",
       "    .dataframe thead th {\n",
       "        text-align: right;\n",
       "    }\n",
       "</style>\n",
       "<table border=\"1\" class=\"dataframe\">\n",
       "  <thead>\n",
       "    <tr style=\"text-align: right;\">\n",
       "      <th></th>\n",
       "      <th>true_value</th>\n",
       "      <th>pred_value</th>\n",
       "    </tr>\n",
       "  </thead>\n",
       "  <tbody>\n",
       "    <tr>\n",
       "      <th>497</th>\n",
       "      <td>60.4</td>\n",
       "      <td>0</td>\n",
       "    </tr>\n",
       "    <tr>\n",
       "      <th>498</th>\n",
       "      <td>30.4</td>\n",
       "      <td>1</td>\n",
       "    </tr>\n",
       "    <tr>\n",
       "      <th>1234</th>\n",
       "      <td>64.4</td>\n",
       "      <td>0</td>\n",
       "    </tr>\n",
       "    <tr>\n",
       "      <th>1235</th>\n",
       "      <td>35.6</td>\n",
       "      <td>0</td>\n",
       "    </tr>\n",
       "    <tr>\n",
       "      <th>1324</th>\n",
       "      <td>34.2</td>\n",
       "      <td>0</td>\n",
       "    </tr>\n",
       "  </tbody>\n",
       "</table>\n",
       "</div>"
      ],
      "text/plain": [
       "      true_value  pred_value\n",
       "497         60.4           0\n",
       "498         30.4           1\n",
       "1234        64.4           0\n",
       "1235        35.6           0\n",
       "1324        34.2           0"
      ]
     },
     "execution_count": 20,
     "metadata": {},
     "output_type": "execute_result"
    }
   ],
   "source": [
    "import pandas as pd\n",
    "true_value = pd.Series(y_test.ravel())\n",
    "pred_value = pd.Series(y_pred.ravel())\n",
    "\n",
    "df = pd.DataFrame()\n",
    "df['true_value'] = true_value\n",
    "df['pred_value'] = pred_value\n",
    "\n",
    "df[df.true_value>30].head(50)"
   ]
  },
  {
   "cell_type": "code",
   "execution_count": 41,
   "id": "892ff961",
   "metadata": {},
   "outputs": [
    {
     "name": "stdout",
     "output_type": "stream",
     "text": [
      "<class 'pandas.core.frame.DataFrame'>\n",
      "RangeIndex: 1832 entries, 0 to 1831\n",
      "Data columns (total 2 columns):\n",
      " #   Column      Non-Null Count  Dtype  \n",
      "---  ------      --------------  -----  \n",
      " 0   true_value  1832 non-null   float64\n",
      " 1   pred_value  1832 non-null   int64  \n",
      "dtypes: float64(1), int64(1)\n",
      "memory usage: 28.8 KB\n"
     ]
    }
   ],
   "source": [
    "df.info()"
   ]
  },
  {
   "cell_type": "code",
   "execution_count": 42,
   "id": "46c1dcb7",
   "metadata": {},
   "outputs": [
    {
     "data": {
      "text/html": [
       "<div>\n",
       "<style scoped>\n",
       "    .dataframe tbody tr th:only-of-type {\n",
       "        vertical-align: middle;\n",
       "    }\n",
       "\n",
       "    .dataframe tbody tr th {\n",
       "        vertical-align: top;\n",
       "    }\n",
       "\n",
       "    .dataframe thead th {\n",
       "        text-align: right;\n",
       "    }\n",
       "</style>\n",
       "<table border=\"1\" class=\"dataframe\">\n",
       "  <thead>\n",
       "    <tr style=\"text-align: right;\">\n",
       "      <th></th>\n",
       "      <th>true_value</th>\n",
       "      <th>pred_value</th>\n",
       "    </tr>\n",
       "  </thead>\n",
       "  <tbody>\n",
       "    <tr>\n",
       "      <th>count</th>\n",
       "      <td>1832.000000</td>\n",
       "      <td>1832.000000</td>\n",
       "    </tr>\n",
       "    <tr>\n",
       "      <th>mean</th>\n",
       "      <td>0.899236</td>\n",
       "      <td>-0.757096</td>\n",
       "    </tr>\n",
       "    <tr>\n",
       "      <th>std</th>\n",
       "      <td>3.139926</td>\n",
       "      <td>0.598062</td>\n",
       "    </tr>\n",
       "    <tr>\n",
       "      <th>min</th>\n",
       "      <td>0.000000</td>\n",
       "      <td>-1.000000</td>\n",
       "    </tr>\n",
       "    <tr>\n",
       "      <th>25%</th>\n",
       "      <td>0.000000</td>\n",
       "      <td>-1.000000</td>\n",
       "    </tr>\n",
       "    <tr>\n",
       "      <th>50%</th>\n",
       "      <td>0.000000</td>\n",
       "      <td>-1.000000</td>\n",
       "    </tr>\n",
       "    <tr>\n",
       "      <th>75%</th>\n",
       "      <td>0.600000</td>\n",
       "      <td>-1.000000</td>\n",
       "    </tr>\n",
       "    <tr>\n",
       "      <th>max</th>\n",
       "      <td>64.400000</td>\n",
       "      <td>1.000000</td>\n",
       "    </tr>\n",
       "  </tbody>\n",
       "</table>\n",
       "</div>"
      ],
      "text/plain": [
       "        true_value   pred_value\n",
       "count  1832.000000  1832.000000\n",
       "mean      0.899236    -0.757096\n",
       "std       3.139926     0.598062\n",
       "min       0.000000    -1.000000\n",
       "25%       0.000000    -1.000000\n",
       "50%       0.000000    -1.000000\n",
       "75%       0.600000    -1.000000\n",
       "max      64.400000     1.000000"
      ]
     },
     "execution_count": 42,
     "metadata": {},
     "output_type": "execute_result"
    }
   ],
   "source": [
    "df.describe()"
   ]
  },
  {
   "cell_type": "code",
   "execution_count": 46,
   "id": "3836b7aa",
   "metadata": {},
   "outputs": [
    {
     "data": {
      "text/plain": [
       "<AxesSubplot: >"
      ]
     },
     "execution_count": 46,
     "metadata": {},
     "output_type": "execute_result"
    },
    {
     "data": {
      "image/png": "[encoded data removed]",
      "text/plain": [
       "<Figure size 640x480 with 1 Axes>"
      ]
     },
     "metadata": {},
     "output_type": "display_data"
    }
   ],
   "source": [
    "df.true_value.hist()"
   ]
  },
  {
   "cell_type": "code",
   "execution_count": 44,
   "id": "22e22705",
   "metadata": {},
   "outputs": [
    {
     "data": {
      "text/plain": [
       "<AxesSubplot: >"
      ]
     },
     "execution_count": 44,
     "metadata": {},
     "output_type": "execute_result"
    },
    {
     "data": {
      "image/png": "[encoded data removed]",
      "text/plain": [
       "<Figure size 640x480 with 1 Axes>"
      ]
     },
     "metadata": {},
     "output_type": "display_data"
    }
   ],
   "source": [
    "df.pred_value.hist()"
   ]
  },
  {
   "cell_type": "code",
   "execution_count": 45,
   "id": "8ade929d",
   "metadata": {},
   "outputs": [
    {
     "data": {
      "text/plain": [
       "array([ 1,  0, -1])"
      ]
     },
     "execution_count": 45,
     "metadata": {},
     "output_type": "execute_result"
    }
   ],
   "source": [
    "df.pred_value.unique()"
   ]
  },
  {
   "cell_type": "code",
   "execution_count": 75,
   "id": "f8372d44",
   "metadata": {},
   "outputs": [
    {
     "data": {
      "text/plain": [
       "(True, False)"
      ]
     },
     "execution_count": 75,
     "metadata": {},
     "output_type": "execute_result"
    }
   ],
   "source": [
    "np.isnan(X_test).any(), np.isnan(y_test).any()"
   ]
  },
  {
   "cell_type": "code",
   "execution_count": 79,
   "id": "c7f052d7",
   "metadata": {},
   "outputs": [
    {
     "data": {
      "text/plain": [
       "(1832, 6, 23)"
      ]
     },
     "execution_count": 79,
     "metadata": {},
     "output_type": "execute_result"
    }
   ],
   "source": [
    "X_test.shape"
   ]
  },
  {
   "cell_type": "code",
   "execution_count": 80,
   "id": "43b7f748",
   "metadata": {},
   "outputs": [
    {
     "data": {
      "text/plain": [
       "1832"
      ]
     },
     "execution_count": 80,
     "metadata": {},
     "output_type": "execute_result"
    }
   ],
   "source": [
    "len(X_test)"
   ]
  },
  {
   "cell_type": "code",
   "execution_count": 77,
   "id": "3356e59e",
   "metadata": {},
   "outputs": [
    {
     "data": {
      "text/plain": [
       "(6, 23)"
      ]
     },
     "execution_count": 77,
     "metadata": {},
     "output_type": "execute_result"
    }
   ],
   "source": [
    "X_test[0].shape"
   ]
  },
  {
   "cell_type": "code",
   "execution_count": 39,
   "id": "2b51b9dc",
   "metadata": {},
   "outputs": [
    {
     "name": "stdout",
     "output_type": "stream",
     "text": [
      "Evaluating ordinal classification model...\n",
      "X\n",
      "Test X for NaN... False\n",
      "X.shape: (1342, 6, 23)\n",
      "[[[0.21182266 0.62030075 0.93055556 0.36479482 0.30236346 0.14644661\n",
      "   0.14644661 0.         0.59043108 0.77506042 0.34062759 0.14990378\n",
      "   0.40910499 0.66818684 0.76963175 0.5587392  0.28812447 0.4266994\n",
      "   0.68511272 0.8123057  0.14637602 0.52047459 0.44482548]\n",
      "  [0.20689655 0.59398496 0.93055556 0.3927327  0.28686532 0.0669873\n",
      "   0.25       0.         0.56208009 0.78103981 0.34531134 0.16261517\n",
      "   0.38763785 0.64373949 0.76740918 0.56345411 0.28031933 0.44366367\n",
      "   0.68787267 0.81213508 0.15889498 0.50709264 0.44476408]\n",
      "  [0.18719212 0.56766917 0.93055556 0.31278062 0.3080461  0.01703709\n",
      "   0.37059048 0.         0.55292027 0.77626091 0.3526781  0.1658861\n",
      "   0.35922546 0.63536968 0.7963642  0.55806038 0.27177588 0.46270552\n",
      "   0.68402057 0.82473966 0.17331935 0.5357004  0.43739696]\n",
      "  [0.17241379 0.55263158 0.94444444 0.35485222 0.28024573 0.\n",
      "   0.5        0.         0.52435133 0.80248874 0.34490427 0.18008673\n",
      "   0.38648988 0.61356609 0.77423023 0.56333386 0.27981305 0.50579509\n",
      "   0.67898405 0.81523937 0.15223373 0.54075704 0.45004386]\n",
      "  [0.16748768 0.53383459 0.94444444 0.44217288 0.26678988 0.01703709\n",
      "   0.62940952 0.         0.52914901 0.84563561 0.32511398 0.15548828\n",
      "   0.39908891 0.61907174 0.75988306 0.56820716 0.28523445 0.54953901\n",
      "   0.6869249  0.81186224 0.16772793 0.51627003 0.45404974]\n",
      "  [0.14778325 0.53383459 0.94444444 0.29808642 0.30051477 0.0669873\n",
      "   0.75       0.         0.52609601 0.87415123 0.30732606 0.13924001\n",
      "   0.38330425 0.60982174 0.76014356 0.56237575 0.27928568 0.58564329\n",
      "   0.67912805 0.81389193 0.1583911  0.50883872 0.45638266]]]\n",
      "output:\n",
      "torch.Size([1342, 5])\n",
      "tensor([[9.9997e-01, 4.2026e-01, 3.4178e-02, 2.1145e-05, 2.9084e-05],\n",
      "        [9.9999e-01, 5.4397e-01, 3.5547e-02, 1.0540e-05, 1.0747e-05],\n",
      "        [9.9999e-01, 5.5738e-01, 3.5859e-02, 9.9811e-06, 9.8398e-06],\n",
      "        ...,\n",
      "        [9.9936e-01, 1.5997e-01, 3.1174e-02, 1.7299e-04, 5.3703e-04],\n",
      "        [9.9993e-01, 3.1181e-01, 3.1540e-02, 3.4143e-05, 6.3063e-05],\n",
      "        [9.9779e-01, 1.0085e-01, 2.9963e-02, 3.6549e-04, 1.6089e-03]])\n",
      "yb_pred_encoded:\n",
      "[[9.9996841e-01 4.2025536e-01 3.4177799e-02 2.1145166e-05 2.9084302e-05]\n",
      " [9.9998856e-01 5.4397184e-01 3.5547167e-02 1.0539840e-05 1.0746836e-05]\n",
      " [9.9998951e-01 5.5737972e-01 3.5859182e-02 9.9810668e-06 9.8397932e-06]\n",
      " ...\n",
      " [9.9936014e-01 1.5996614e-01 3.1173559e-02 1.7299349e-04 5.3703471e-04]\n",
      " [9.9992943e-01 3.1180620e-01 3.1539753e-02 3.4142580e-05 6.3063300e-05]\n",
      " [9.9778926e-01 1.0085293e-01 2.9962858e-02 3.6548599e-04 1.6089313e-03]]\n",
      "yb_pred_decoded:\n",
      "[0 1 1 ... 0 0 0]\n"
     ]
    }
   ],
   "source": [
    "def predict(model, X):\n",
    "    print('Evaluating ordinal classification model...')\n",
    "    model.eval()\n",
    "    \n",
    "    print(\"X\")\n",
    "    print(\"Test X for NaN...\", np.isnan(X).any())\n",
    "    print(f\"X.shape: {X.shape}\")\n",
    "    print(X[1:2])\n",
    "    \n",
    "    test_x_tensor = torch.from_numpy(X.astype('float64'))\n",
    "    test_x_tensor = torch.permute(test_x_tensor, (0, 2, 1))\n",
    "\n",
    "    outputs = []\n",
    "    with torch.no_grad():\n",
    "        output = model(test_x_tensor.float())\n",
    "        print(\"output:\")\n",
    "        print(output.shape)\n",
    "        print(output)\n",
    "#         print(min(output), max(output))\n",
    "\n",
    "        yb_pred_encoded = output.detach().cpu().numpy()\n",
    "        print(\"yb_pred_encoded:\")\n",
    "        print(yb_pred_encoded)\n",
    "        \n",
    "        yb_pred_decoded = ordinalencoding2labels(yb_pred_encoded)\n",
    "        print(\"yb_pred_decoded:\")\n",
    "        print(yb_pred_decoded)\n",
    "\n",
    "        outputs.append(yb_pred_decoded.reshape(-1,1))\n",
    "    \n",
    "    y_pred = np.vstack(outputs)\n",
    "\n",
    "    return y_pred, yb_pred_encoded\n",
    "\n",
    "def ordinalencoding2labels(pred: np.ndarray):\n",
    "    \"\"\"Convert ordinal predictions to class labels, e.g.\n",
    "    \n",
    "    [0.9, 0.1, 0.1, 0.1] -> 0\n",
    "    [0.9, 0.9, 0.1, 0.1] -> 1\n",
    "    [0.9, 0.9, 0.9, 0.1] -> 2\n",
    "    etc.\n",
    "    \"\"\"\n",
    "    return (pred > 0.5).cumprod(axis=1).sum(axis=1) - 1\n",
    "\n",
    "y_pred, yb_pred_encoded = predict(model, X_test)"
   ]
  },
  {
   "cell_type": "code",
   "execution_count": 40,
   "id": "dbbe0ef8",
   "metadata": {},
   "outputs": [
    {
     "data": {
      "text/plain": [
       "array([[9.9996841e-01, 4.2025536e-01, 3.4177799e-02, 2.1145166e-05,\n",
       "        2.9084302e-05],\n",
       "       [9.9998856e-01, 5.4397184e-01, 3.5547167e-02, 1.0539840e-05,\n",
       "        1.0746836e-05],\n",
       "       [9.9998951e-01, 5.5737972e-01, 3.5859182e-02, 9.9810668e-06,\n",
       "        9.8397932e-06],\n",
       "       ...,\n",
       "       [9.9936014e-01, 1.5996614e-01, 3.1173559e-02, 1.7299349e-04,\n",
       "        5.3703471e-04],\n",
       "       [9.9992943e-01, 3.1180620e-01, 3.1539753e-02, 3.4142580e-05,\n",
       "        6.3063300e-05],\n",
       "       [9.9778926e-01, 1.0085293e-01, 2.9962858e-02, 3.6548599e-04,\n",
       "        1.6089313e-03]], dtype=float32)"
      ]
     },
     "execution_count": 40,
     "metadata": {},
     "output_type": "execute_result"
    }
   ],
   "source": [
    "yb_pred_encoded"
   ]
  },
  {
   "cell_type": "code",
   "execution_count": 41,
   "id": "a4936da6",
   "metadata": {},
   "outputs": [
    {
     "data": {
      "text/plain": [
       "((1342, 1), 6710, (5,))"
      ]
     },
     "execution_count": 41,
     "metadata": {},
     "output_type": "execute_result"
    }
   ],
   "source": [
    "y_test.shape, 1342*5, yb_pred_encoded[0].shape"
   ]
  },
  {
   "cell_type": "code",
   "execution_count": 42,
   "id": "3c398998",
   "metadata": {},
   "outputs": [
    {
     "data": {
      "text/plain": [
       "(1342, 5)"
      ]
     },
     "execution_count": 42,
     "metadata": {},
     "output_type": "execute_result"
    }
   ],
   "source": [
    "yb_pred_encoded.shape"
   ]
  },
  {
   "cell_type": "code",
   "execution_count": 43,
   "id": "16699aff",
   "metadata": {},
   "outputs": [
    {
     "data": {
      "text/plain": [
       "array([9.9996841e-01, 4.2025536e-01, 3.4177799e-02, 2.1145166e-05,\n",
       "       2.9084302e-05], dtype=float32)"
      ]
     },
     "execution_count": 43,
     "metadata": {},
     "output_type": "execute_result"
    }
   ],
   "source": [
    "yb_pred_encoded[0]"
   ]
  },
  {
   "cell_type": "code",
   "execution_count": 46,
   "id": "d50ef060",
   "metadata": {},
   "outputs": [
    {
     "data": {
      "text/plain": [
       "array([[0. ],\n",
       "       [0.2],\n",
       "       [1.8],\n",
       "       ...,\n",
       "       [0. ],\n",
       "       [0. ],\n",
       "       [0. ]])"
      ]
     },
     "execution_count": 46,
     "metadata": {},
     "output_type": "execute_result"
    }
   ],
   "source": [
    "y_test"
   ]
  },
  {
   "cell_type": "code",
   "execution_count": 53,
   "id": "97023e2e",
   "metadata": {},
   "outputs": [
    {
     "data": {
      "text/html": [
       "<div>\n",
       "<style scoped>\n",
       "    .dataframe tbody tr th:only-of-type {\n",
       "        vertical-align: middle;\n",
       "    }\n",
       "\n",
       "    .dataframe tbody tr th {\n",
       "        vertical-align: top;\n",
       "    }\n",
       "\n",
       "    .dataframe thead th {\n",
       "        text-align: right;\n",
       "    }\n",
       "</style>\n",
       "<table border=\"1\" class=\"dataframe\">\n",
       "  <thead>\n",
       "    <tr style=\"text-align: right;\">\n",
       "      <th></th>\n",
       "      <th>Pr(None)</th>\n",
       "      <th>Pr(Weak)</th>\n",
       "      <th>Pr(Moderate)</th>\n",
       "      <th>Pr(Strong</th>\n",
       "      <th>Pr(Extreme)</th>\n",
       "      <th>CHUVA</th>\n",
       "    </tr>\n",
       "  </thead>\n",
       "  <tbody>\n",
       "    <tr>\n",
       "      <th>497</th>\n",
       "      <td>0.999980</td>\n",
       "      <td>0.449894</td>\n",
       "      <td>0.032915</td>\n",
       "      <td>0.000014</td>\n",
       "      <td>0.000018</td>\n",
       "      <td>60.4</td>\n",
       "    </tr>\n",
       "    <tr>\n",
       "      <th>498</th>\n",
       "      <td>0.999996</td>\n",
       "      <td>0.746700</td>\n",
       "      <td>0.044159</td>\n",
       "      <td>0.000007</td>\n",
       "      <td>0.000004</td>\n",
       "      <td>30.4</td>\n",
       "    </tr>\n",
       "    <tr>\n",
       "      <th>1234</th>\n",
       "      <td>0.999982</td>\n",
       "      <td>0.509813</td>\n",
       "      <td>0.036692</td>\n",
       "      <td>0.000016</td>\n",
       "      <td>0.000017</td>\n",
       "      <td>64.4</td>\n",
       "    </tr>\n",
       "    <tr>\n",
       "      <th>1235</th>\n",
       "      <td>0.999997</td>\n",
       "      <td>0.786265</td>\n",
       "      <td>0.046396</td>\n",
       "      <td>0.000006</td>\n",
       "      <td>0.000003</td>\n",
       "      <td>35.6</td>\n",
       "    </tr>\n",
       "    <tr>\n",
       "      <th>1250</th>\n",
       "      <td>0.999984</td>\n",
       "      <td>0.531210</td>\n",
       "      <td>0.037296</td>\n",
       "      <td>0.000015</td>\n",
       "      <td>0.000015</td>\n",
       "      <td>26.2</td>\n",
       "    </tr>\n",
       "    <tr>\n",
       "      <th>1324</th>\n",
       "      <td>0.999847</td>\n",
       "      <td>0.282036</td>\n",
       "      <td>0.034511</td>\n",
       "      <td>0.000071</td>\n",
       "      <td>0.000140</td>\n",
       "      <td>34.2</td>\n",
       "    </tr>\n",
       "  </tbody>\n",
       "</table>\n",
       "</div>"
      ],
      "text/plain": [
       "      Pr(None)  Pr(Weak)  Pr(Moderate)  Pr(Strong  Pr(Extreme)  CHUVA\n",
       "497   0.999980  0.449894      0.032915   0.000014     0.000018   60.4\n",
       "498   0.999996  0.746700      0.044159   0.000007     0.000004   30.4\n",
       "1234  0.999982  0.509813      0.036692   0.000016     0.000017   64.4\n",
       "1235  0.999997  0.786265      0.046396   0.000006     0.000003   35.6\n",
       "1250  0.999984  0.531210      0.037296   0.000015     0.000015   26.2\n",
       "1324  0.999847  0.282036      0.034511   0.000071     0.000140   34.2"
      ]
     },
     "execution_count": 53,
     "metadata": {},
     "output_type": "execute_result"
    }
   ],
   "source": [
    "# Create the pandas DataFrame\n",
    "df = pd.DataFrame(yb_pred_encoded, columns = ['Pr(None)', 'Pr(Weak)', 'Pr(Moderate)', 'Pr(Strong', 'Pr(Extreme)'])\n",
    "df['CHUVA'] = y_test\n",
    "df[df.CHUVA >= 25].head(50)"
   ]
  },
  {
   "cell_type": "code",
   "execution_count": 54,
   "id": "d10911bc",
   "metadata": {},
   "outputs": [
    {
     "data": {
      "text/html": [
       "<div>\n",
       "<style scoped>\n",
       "    .dataframe tbody tr th:only-of-type {\n",
       "        vertical-align: middle;\n",
       "    }\n",
       "\n",
       "    .dataframe tbody tr th {\n",
       "        vertical-align: top;\n",
       "    }\n",
       "\n",
       "    .dataframe thead th {\n",
       "        text-align: right;\n",
       "    }\n",
       "</style>\n",
       "<table border=\"1\" class=\"dataframe\">\n",
       "  <thead>\n",
       "    <tr style=\"text-align: right;\">\n",
       "      <th></th>\n",
       "      <th>Pr(None)</th>\n",
       "      <th>Pr(Weak)</th>\n",
       "      <th>Pr(Moderate)</th>\n",
       "      <th>Pr(Strong</th>\n",
       "      <th>Pr(Extreme)</th>\n",
       "      <th>CHUVA</th>\n",
       "    </tr>\n",
       "  </thead>\n",
       "  <tbody>\n",
       "    <tr>\n",
       "      <th>118</th>\n",
       "      <td>0.999978</td>\n",
       "      <td>0.420569</td>\n",
       "      <td>0.031419</td>\n",
       "      <td>1.386741e-05</td>\n",
       "      <td>1.945310e-05</td>\n",
       "      <td>8.2</td>\n",
       "    </tr>\n",
       "    <tr>\n",
       "      <th>119</th>\n",
       "      <td>0.999977</td>\n",
       "      <td>0.436117</td>\n",
       "      <td>0.033019</td>\n",
       "      <td>1.582399e-05</td>\n",
       "      <td>2.109978e-05</td>\n",
       "      <td>6.6</td>\n",
       "    </tr>\n",
       "    <tr>\n",
       "      <th>138</th>\n",
       "      <td>0.999879</td>\n",
       "      <td>0.245241</td>\n",
       "      <td>0.029574</td>\n",
       "      <td>4.614037e-05</td>\n",
       "      <td>1.042804e-04</td>\n",
       "      <td>17.4</td>\n",
       "    </tr>\n",
       "    <tr>\n",
       "      <th>146</th>\n",
       "      <td>0.999993</td>\n",
       "      <td>0.600745</td>\n",
       "      <td>0.035621</td>\n",
       "      <td>7.136869e-06</td>\n",
       "      <td>6.361011e-06</td>\n",
       "      <td>9.4</td>\n",
       "    </tr>\n",
       "    <tr>\n",
       "      <th>149</th>\n",
       "      <td>0.999997</td>\n",
       "      <td>0.706964</td>\n",
       "      <td>0.039096</td>\n",
       "      <td>5.029304e-06</td>\n",
       "      <td>3.313054e-06</td>\n",
       "      <td>14.8</td>\n",
       "    </tr>\n",
       "    <tr>\n",
       "      <th>154</th>\n",
       "      <td>0.999990</td>\n",
       "      <td>0.503770</td>\n",
       "      <td>0.031978</td>\n",
       "      <td>8.282323e-06</td>\n",
       "      <td>9.510445e-06</td>\n",
       "      <td>5.8</td>\n",
       "    </tr>\n",
       "    <tr>\n",
       "      <th>168</th>\n",
       "      <td>0.999345</td>\n",
       "      <td>0.162964</td>\n",
       "      <td>0.031754</td>\n",
       "      <td>1.812393e-04</td>\n",
       "      <td>5.516107e-04</td>\n",
       "      <td>8.0</td>\n",
       "    </tr>\n",
       "    <tr>\n",
       "      <th>183</th>\n",
       "      <td>0.999988</td>\n",
       "      <td>0.521106</td>\n",
       "      <td>0.033984</td>\n",
       "      <td>9.964946e-06</td>\n",
       "      <td>1.081419e-05</td>\n",
       "      <td>5.4</td>\n",
       "    </tr>\n",
       "    <tr>\n",
       "      <th>196</th>\n",
       "      <td>0.999163</td>\n",
       "      <td>0.151310</td>\n",
       "      <td>0.031874</td>\n",
       "      <td>2.167469e-04</td>\n",
       "      <td>6.958555e-04</td>\n",
       "      <td>11.8</td>\n",
       "    </tr>\n",
       "    <tr>\n",
       "      <th>200</th>\n",
       "      <td>0.999983</td>\n",
       "      <td>0.490916</td>\n",
       "      <td>0.034516</td>\n",
       "      <td>1.335989e-05</td>\n",
       "      <td>1.558593e-05</td>\n",
       "      <td>6.2</td>\n",
       "    </tr>\n",
       "    <tr>\n",
       "      <th>201</th>\n",
       "      <td>0.999988</td>\n",
       "      <td>0.561737</td>\n",
       "      <td>0.037421</td>\n",
       "      <td>1.201416e-05</td>\n",
       "      <td>1.169318e-05</td>\n",
       "      <td>16.4</td>\n",
       "    </tr>\n",
       "    <tr>\n",
       "      <th>202</th>\n",
       "      <td>0.999995</td>\n",
       "      <td>0.678074</td>\n",
       "      <td>0.040487</td>\n",
       "      <td>7.553475e-06</td>\n",
       "      <td>5.414778e-06</td>\n",
       "      <td>16.6</td>\n",
       "    </tr>\n",
       "    <tr>\n",
       "      <th>203</th>\n",
       "      <td>0.999997</td>\n",
       "      <td>0.763578</td>\n",
       "      <td>0.043287</td>\n",
       "      <td>5.174018e-06</td>\n",
       "      <td>2.821438e-06</td>\n",
       "      <td>7.0</td>\n",
       "    </tr>\n",
       "    <tr>\n",
       "      <th>232</th>\n",
       "      <td>0.999990</td>\n",
       "      <td>0.573238</td>\n",
       "      <td>0.036464</td>\n",
       "      <td>9.748129e-06</td>\n",
       "      <td>9.240955e-06</td>\n",
       "      <td>6.0</td>\n",
       "    </tr>\n",
       "    <tr>\n",
       "      <th>281</th>\n",
       "      <td>0.999992</td>\n",
       "      <td>0.530240</td>\n",
       "      <td>0.032028</td>\n",
       "      <td>6.932693e-06</td>\n",
       "      <td>7.445830e-06</td>\n",
       "      <td>11.6</td>\n",
       "    </tr>\n",
       "    <tr>\n",
       "      <th>322</th>\n",
       "      <td>0.999990</td>\n",
       "      <td>0.566178</td>\n",
       "      <td>0.035999</td>\n",
       "      <td>9.637354e-06</td>\n",
       "      <td>9.361822e-06</td>\n",
       "      <td>9.2</td>\n",
       "    </tr>\n",
       "    <tr>\n",
       "      <th>323</th>\n",
       "      <td>0.999994</td>\n",
       "      <td>0.648936</td>\n",
       "      <td>0.038648</td>\n",
       "      <td>7.494037e-06</td>\n",
       "      <td>5.849645e-06</td>\n",
       "      <td>10.8</td>\n",
       "    </tr>\n",
       "    <tr>\n",
       "      <th>330</th>\n",
       "      <td>0.999713</td>\n",
       "      <td>0.196309</td>\n",
       "      <td>0.030321</td>\n",
       "      <td>9.207735e-05</td>\n",
       "      <td>2.460728e-04</td>\n",
       "      <td>5.4</td>\n",
       "    </tr>\n",
       "    <tr>\n",
       "      <th>356</th>\n",
       "      <td>0.999985</td>\n",
       "      <td>0.510174</td>\n",
       "      <td>0.034937</td>\n",
       "      <td>1.232055e-05</td>\n",
       "      <td>1.366413e-05</td>\n",
       "      <td>8.2</td>\n",
       "    </tr>\n",
       "    <tr>\n",
       "      <th>362</th>\n",
       "      <td>0.999989</td>\n",
       "      <td>0.548597</td>\n",
       "      <td>0.035817</td>\n",
       "      <td>1.057894e-05</td>\n",
       "      <td>1.064413e-05</td>\n",
       "      <td>6.2</td>\n",
       "    </tr>\n",
       "    <tr>\n",
       "      <th>417</th>\n",
       "      <td>0.999954</td>\n",
       "      <td>0.402595</td>\n",
       "      <td>0.035701</td>\n",
       "      <td>3.032305e-05</td>\n",
       "      <td>4.298514e-05</td>\n",
       "      <td>9.6</td>\n",
       "    </tr>\n",
       "    <tr>\n",
       "      <th>502</th>\n",
       "      <td>0.999998</td>\n",
       "      <td>0.587087</td>\n",
       "      <td>0.026583</td>\n",
       "      <td>1.881452e-06</td>\n",
       "      <td>1.849256e-06</td>\n",
       "      <td>8.6</td>\n",
       "    </tr>\n",
       "    <tr>\n",
       "      <th>503</th>\n",
       "      <td>0.999994</td>\n",
       "      <td>0.556833</td>\n",
       "      <td>0.031497</td>\n",
       "      <td>5.354191e-06</td>\n",
       "      <td>5.452543e-06</td>\n",
       "      <td>9.8</td>\n",
       "    </tr>\n",
       "    <tr>\n",
       "      <th>534</th>\n",
       "      <td>0.999862</td>\n",
       "      <td>0.237192</td>\n",
       "      <td>0.029688</td>\n",
       "      <td>5.137789e-05</td>\n",
       "      <td>1.199035e-04</td>\n",
       "      <td>11.6</td>\n",
       "    </tr>\n",
       "    <tr>\n",
       "      <th>555</th>\n",
       "      <td>0.999999</td>\n",
       "      <td>0.837053</td>\n",
       "      <td>0.042314</td>\n",
       "      <td>2.229347e-06</td>\n",
       "      <td>9.281798e-07</td>\n",
       "      <td>7.6</td>\n",
       "    </tr>\n",
       "    <tr>\n",
       "      <th>606</th>\n",
       "      <td>0.999998</td>\n",
       "      <td>0.733801</td>\n",
       "      <td>0.037907</td>\n",
       "      <td>3.479154e-06</td>\n",
       "      <td>2.143779e-06</td>\n",
       "      <td>17.4</td>\n",
       "    </tr>\n",
       "    <tr>\n",
       "      <th>623</th>\n",
       "      <td>0.998471</td>\n",
       "      <td>0.119091</td>\n",
       "      <td>0.031091</td>\n",
       "      <td>3.063608e-04</td>\n",
       "      <td>1.181498e-03</td>\n",
       "      <td>8.2</td>\n",
       "    </tr>\n",
       "    <tr>\n",
       "      <th>629</th>\n",
       "      <td>0.999995</td>\n",
       "      <td>0.612247</td>\n",
       "      <td>0.034467</td>\n",
       "      <td>5.584434e-06</td>\n",
       "      <td>4.884877e-06</td>\n",
       "      <td>12.6</td>\n",
       "    </tr>\n",
       "    <tr>\n",
       "      <th>635</th>\n",
       "      <td>0.999304</td>\n",
       "      <td>0.138359</td>\n",
       "      <td>0.028967</td>\n",
       "      <td>1.591703e-04</td>\n",
       "      <td>5.559734e-04</td>\n",
       "      <td>10.6</td>\n",
       "    </tr>\n",
       "    <tr>\n",
       "      <th>746</th>\n",
       "      <td>1.000000</td>\n",
       "      <td>0.894730</td>\n",
       "      <td>0.040029</td>\n",
       "      <td>8.011460e-07</td>\n",
       "      <td>2.498068e-07</td>\n",
       "      <td>5.6</td>\n",
       "    </tr>\n",
       "    <tr>\n",
       "      <th>789</th>\n",
       "      <td>1.000000</td>\n",
       "      <td>0.887895</td>\n",
       "      <td>0.038560</td>\n",
       "      <td>7.407666e-07</td>\n",
       "      <td>2.419180e-07</td>\n",
       "      <td>12.4</td>\n",
       "    </tr>\n",
       "    <tr>\n",
       "      <th>875</th>\n",
       "      <td>0.999877</td>\n",
       "      <td>0.265092</td>\n",
       "      <td>0.031275</td>\n",
       "      <td>5.130597e-05</td>\n",
       "      <td>1.086691e-04</td>\n",
       "      <td>13.2</td>\n",
       "    </tr>\n",
       "    <tr>\n",
       "      <th>917</th>\n",
       "      <td>0.999999</td>\n",
       "      <td>0.826697</td>\n",
       "      <td>0.039594</td>\n",
       "      <td>1.778142e-06</td>\n",
       "      <td>7.832713e-07</td>\n",
       "      <td>5.2</td>\n",
       "    </tr>\n",
       "    <tr>\n",
       "      <th>955</th>\n",
       "      <td>0.999946</td>\n",
       "      <td>0.393989</td>\n",
       "      <td>0.036163</td>\n",
       "      <td>3.483841e-05</td>\n",
       "      <td>5.095937e-05</td>\n",
       "      <td>5.2</td>\n",
       "    </tr>\n",
       "    <tr>\n",
       "      <th>957</th>\n",
       "      <td>0.999986</td>\n",
       "      <td>0.582997</td>\n",
       "      <td>0.040510</td>\n",
       "      <td>1.523480e-05</td>\n",
       "      <td>1.377063e-05</td>\n",
       "      <td>6.0</td>\n",
       "    </tr>\n",
       "    <tr>\n",
       "      <th>1014</th>\n",
       "      <td>0.999550</td>\n",
       "      <td>0.180508</td>\n",
       "      <td>0.031477</td>\n",
       "      <td>1.359521e-04</td>\n",
       "      <td>3.845781e-04</td>\n",
       "      <td>5.2</td>\n",
       "    </tr>\n",
       "    <tr>\n",
       "      <th>1016</th>\n",
       "      <td>0.999966</td>\n",
       "      <td>0.374647</td>\n",
       "      <td>0.031356</td>\n",
       "      <td>1.953375e-05</td>\n",
       "      <td>3.070548e-05</td>\n",
       "      <td>10.6</td>\n",
       "    </tr>\n",
       "    <tr>\n",
       "      <th>1032</th>\n",
       "      <td>0.999989</td>\n",
       "      <td>0.570769</td>\n",
       "      <td>0.036975</td>\n",
       "      <td>1.058597e-05</td>\n",
       "      <td>1.006044e-05</td>\n",
       "      <td>6.2</td>\n",
       "    </tr>\n",
       "    <tr>\n",
       "      <th>1059</th>\n",
       "      <td>0.999999</td>\n",
       "      <td>0.757544</td>\n",
       "      <td>0.036130</td>\n",
       "      <td>2.252659e-06</td>\n",
       "      <td>1.296017e-06</td>\n",
       "      <td>5.6</td>\n",
       "    </tr>\n",
       "    <tr>\n",
       "      <th>1088</th>\n",
       "      <td>0.999996</td>\n",
       "      <td>0.671447</td>\n",
       "      <td>0.036858</td>\n",
       "      <td>5.006506e-06</td>\n",
       "      <td>3.694593e-06</td>\n",
       "      <td>6.4</td>\n",
       "    </tr>\n",
       "    <tr>\n",
       "      <th>1116</th>\n",
       "      <td>0.999999</td>\n",
       "      <td>0.811034</td>\n",
       "      <td>0.039923</td>\n",
       "      <td>2.204867e-06</td>\n",
       "      <td>1.034045e-06</td>\n",
       "      <td>5.2</td>\n",
       "    </tr>\n",
       "    <tr>\n",
       "      <th>1119</th>\n",
       "      <td>0.999999</td>\n",
       "      <td>0.811369</td>\n",
       "      <td>0.038969</td>\n",
       "      <td>1.956200e-06</td>\n",
       "      <td>9.185235e-07</td>\n",
       "      <td>7.6</td>\n",
       "    </tr>\n",
       "    <tr>\n",
       "      <th>1120</th>\n",
       "      <td>0.999999</td>\n",
       "      <td>0.810674</td>\n",
       "      <td>0.039047</td>\n",
       "      <td>1.986964e-06</td>\n",
       "      <td>9.363629e-07</td>\n",
       "      <td>5.4</td>\n",
       "    </tr>\n",
       "    <tr>\n",
       "      <th>1121</th>\n",
       "      <td>0.999999</td>\n",
       "      <td>0.801434</td>\n",
       "      <td>0.038600</td>\n",
       "      <td>2.062275e-06</td>\n",
       "      <td>1.009284e-06</td>\n",
       "      <td>5.0</td>\n",
       "    </tr>\n",
       "    <tr>\n",
       "      <th>1122</th>\n",
       "      <td>0.999999</td>\n",
       "      <td>0.792378</td>\n",
       "      <td>0.038292</td>\n",
       "      <td>2.172914e-06</td>\n",
       "      <td>1.102511e-06</td>\n",
       "      <td>5.8</td>\n",
       "    </tr>\n",
       "    <tr>\n",
       "      <th>1184</th>\n",
       "      <td>0.999874</td>\n",
       "      <td>0.282395</td>\n",
       "      <td>0.033118</td>\n",
       "      <td>5.753061e-05</td>\n",
       "      <td>1.144872e-04</td>\n",
       "      <td>22.8</td>\n",
       "    </tr>\n",
       "    <tr>\n",
       "      <th>1218</th>\n",
       "      <td>0.998857</td>\n",
       "      <td>0.129794</td>\n",
       "      <td>0.030736</td>\n",
       "      <td>2.511221e-04</td>\n",
       "      <td>9.099364e-04</td>\n",
       "      <td>19.0</td>\n",
       "    </tr>\n",
       "    <tr>\n",
       "      <th>1256</th>\n",
       "      <td>0.999918</td>\n",
       "      <td>0.325025</td>\n",
       "      <td>0.033702</td>\n",
       "      <td>4.276060e-05</td>\n",
       "      <td>7.513435e-05</td>\n",
       "      <td>5.2</td>\n",
       "    </tr>\n",
       "    <tr>\n",
       "      <th>1271</th>\n",
       "      <td>0.999525</td>\n",
       "      <td>0.225783</td>\n",
       "      <td>0.037384</td>\n",
       "      <td>1.875732e-04</td>\n",
       "      <td>4.362911e-04</td>\n",
       "      <td>11.0</td>\n",
       "    </tr>\n",
       "    <tr>\n",
       "      <th>1283</th>\n",
       "      <td>0.999884</td>\n",
       "      <td>0.319486</td>\n",
       "      <td>0.035857</td>\n",
       "      <td>6.125912e-05</td>\n",
       "      <td>1.078498e-04</td>\n",
       "      <td>9.0</td>\n",
       "    </tr>\n",
       "  </tbody>\n",
       "</table>\n",
       "</div>"
      ],
      "text/plain": [
       "      Pr(None)  Pr(Weak)  Pr(Moderate)     Pr(Strong   Pr(Extreme)  CHUVA\n",
       "118   0.999978  0.420569      0.031419  1.386741e-05  1.945310e-05    8.2\n",
       "119   0.999977  0.436117      0.033019  1.582399e-05  2.109978e-05    6.6\n",
       "138   0.999879  0.245241      0.029574  4.614037e-05  1.042804e-04   17.4\n",
       "146   0.999993  0.600745      0.035621  7.136869e-06  6.361011e-06    9.4\n",
       "149   0.999997  0.706964      0.039096  5.029304e-06  3.313054e-06   14.8\n",
       "154   0.999990  0.503770      0.031978  8.282323e-06  9.510445e-06    5.8\n",
       "168   0.999345  0.162964      0.031754  1.812393e-04  5.516107e-04    8.0\n",
       "183   0.999988  0.521106      0.033984  9.964946e-06  1.081419e-05    5.4\n",
       "196   0.999163  0.151310      0.031874  2.167469e-04  6.958555e-04   11.8\n",
       "200   0.999983  0.490916      0.034516  1.335989e-05  1.558593e-05    6.2\n",
       "201   0.999988  0.561737      0.037421  1.201416e-05  1.169318e-05   16.4\n",
       "202   0.999995  0.678074      0.040487  7.553475e-06  5.414778e-06   16.6\n",
       "203   0.999997  0.763578      0.043287  5.174018e-06  2.821438e-06    7.0\n",
       "232   0.999990  0.573238      0.036464  9.748129e-06  9.240955e-06    6.0\n",
       "281   0.999992  0.530240      0.032028  6.932693e-06  7.445830e-06   11.6\n",
       "322   0.999990  0.566178      0.035999  9.637354e-06  9.361822e-06    9.2\n",
       "323   0.999994  0.648936      0.038648  7.494037e-06  5.849645e-06   10.8\n",
       "330   0.999713  0.196309      0.030321  9.207735e-05  2.460728e-04    5.4\n",
       "356   0.999985  0.510174      0.034937  1.232055e-05  1.366413e-05    8.2\n",
       "362   0.999989  0.548597      0.035817  1.057894e-05  1.064413e-05    6.2\n",
       "417   0.999954  0.402595      0.035701  3.032305e-05  4.298514e-05    9.6\n",
       "502   0.999998  0.587087      0.026583  1.881452e-06  1.849256e-06    8.6\n",
       "503   0.999994  0.556833      0.031497  5.354191e-06  5.452543e-06    9.8\n",
       "534   0.999862  0.237192      0.029688  5.137789e-05  1.199035e-04   11.6\n",
       "555   0.999999  0.837053      0.042314  2.229347e-06  9.281798e-07    7.6\n",
       "606   0.999998  0.733801      0.037907  3.479154e-06  2.143779e-06   17.4\n",
       "623   0.998471  0.119091      0.031091  3.063608e-04  1.181498e-03    8.2\n",
       "629   0.999995  0.612247      0.034467  5.584434e-06  4.884877e-06   12.6\n",
       "635   0.999304  0.138359      0.028967  1.591703e-04  5.559734e-04   10.6\n",
       "746   1.000000  0.894730      0.040029  8.011460e-07  2.498068e-07    5.6\n",
       "789   1.000000  0.887895      0.038560  7.407666e-07  2.419180e-07   12.4\n",
       "875   0.999877  0.265092      0.031275  5.130597e-05  1.086691e-04   13.2\n",
       "917   0.999999  0.826697      0.039594  1.778142e-06  7.832713e-07    5.2\n",
       "955   0.999946  0.393989      0.036163  3.483841e-05  5.095937e-05    5.2\n",
       "957   0.999986  0.582997      0.040510  1.523480e-05  1.377063e-05    6.0\n",
       "1014  0.999550  0.180508      0.031477  1.359521e-04  3.845781e-04    5.2\n",
       "1016  0.999966  0.374647      0.031356  1.953375e-05  3.070548e-05   10.6\n",
       "1032  0.999989  0.570769      0.036975  1.058597e-05  1.006044e-05    6.2\n",
       "1059  0.999999  0.757544      0.036130  2.252659e-06  1.296017e-06    5.6\n",
       "1088  0.999996  0.671447      0.036858  5.006506e-06  3.694593e-06    6.4\n",
       "1116  0.999999  0.811034      0.039923  2.204867e-06  1.034045e-06    5.2\n",
       "1119  0.999999  0.811369      0.038969  1.956200e-06  9.185235e-07    7.6\n",
       "1120  0.999999  0.810674      0.039047  1.986964e-06  9.363629e-07    5.4\n",
       "1121  0.999999  0.801434      0.038600  2.062275e-06  1.009284e-06    5.0\n",
       "1122  0.999999  0.792378      0.038292  2.172914e-06  1.102511e-06    5.8\n",
       "1184  0.999874  0.282395      0.033118  5.753061e-05  1.144872e-04   22.8\n",
       "1218  0.998857  0.129794      0.030736  2.511221e-04  9.099364e-04   19.0\n",
       "1256  0.999918  0.325025      0.033702  4.276060e-05  7.513435e-05    5.2\n",
       "1271  0.999525  0.225783      0.037384  1.875732e-04  4.362911e-04   11.0\n",
       "1283  0.999884  0.319486      0.035857  6.125912e-05  1.078498e-04    9.0"
      ]
     },
     "execution_count": 54,
     "metadata": {},
     "output_type": "execute_result"
    }
   ],
   "source": [
    "df[(df.CHUVA >= 5) & (df.CHUVA <= 25)].head(50)"
   ]
  },
  {
   "cell_type": "code",
   "execution_count": 55,
   "id": "e242e8a5",
   "metadata": {},
   "outputs": [
    {
     "data": {
      "text/plain": [
       "25.69046515733026"
      ]
     },
     "execution_count": 55,
     "metadata": {},
     "output_type": "execute_result"
    }
   ],
   "source": [
    "np.sqrt(660)"
   ]
  }
 ],
 "metadata": {
  "kernelspec": {
   "display_name": "Python 3 (ipykernel)",
   "language": "python",
   "name": "python3"
  },
  "language_info": {
   "codemirror_mode": {
    "name": "ipython",
    "version": 3
   },
   "file_extension": ".py",
   "mimetype": "text/x-python",
   "name": "python",
   "nbconvert_exporter": "python",
   "pygments_lexer": "ipython3",
   "version": "3.10.9"
  }
 },
 "nbformat": 4,
 "nbformat_minor": 5
}
