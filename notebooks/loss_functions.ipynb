{
 "cells": [
  {
   "cell_type": "code",
   "execution_count": 4,
   "id": "3337dfb6",
   "metadata": {},
   "outputs": [],
   "source": [
    "import pickle\n",
    "import numpy as np\n",
    "#\n",
    "# Load np arrays (stored in a pickle file) from disk\n",
    "#\n",
    "pipeline_id = \"A652_E-N_EI\"\n",
    "file = open(\"../data/datasets/\" + pipeline_id + \".pickle\", 'rb')\n",
    "(X_train, y_train,  \n",
    " X_val, y_val,  \n",
    " X_test, y_test) = pickle.load(file)"
   ]
  },
  {
   "cell_type": "code",
   "execution_count": null,
   "id": "7948e232",
   "metadata": {},
   "outputs": [],
   "source": [
    "import numpy as np\n",
    "\n",
    "def replace_with_5(arr):\n",
    "    result = np.zeros_like(arr)  # create a new array with zeros of same size as arr\n",
    "    result[arr < 5] = 5\n",
    "    result[arr arr < 5] = 5\n",
    "    return result"
   ]
  },
  {
   "cell_type": "code",
   "execution_count": 33,
   "id": "68e31184",
   "metadata": {},
   "outputs": [],
   "source": [
    "import numpy as np\n",
    "\n",
    "def compute_weights(input_array):\n",
    "    output_array = np.zeros_like(input_array)\n",
    "\n",
    "    mask_weak = np.logical_and(input_array >= 0, input_array < 5)\n",
    "    output_array[mask_weak] = 1\n",
    "    \n",
    "    mask_moderate = np.logical_and(input_array >= 5, input_array < 25)\n",
    "    output_array[mask_moderate] = 5\n",
    "    \n",
    "    mask_strong = np.logical_and(input_array >= 25, input_array < 50)\n",
    "    output_array[mask_strong] = 25\n",
    "    \n",
    "    mask_extreme = np.logical_and(input_array >= 50, input_array < 150)\n",
    "    output_array[mask_extreme] = 50\n",
    "    \n",
    "    return output_array"
   ]
  },
  {
   "cell_type": "code",
   "execution_count": 34,
   "id": "de900607",
   "metadata": {},
   "outputs": [],
   "source": [
    "weight = computer_weights(y_train)"
   ]
  },
  {
   "cell_type": "code",
   "execution_count": 31,
   "id": "2f8a264d",
   "metadata": {},
   "outputs": [
    {
     "data": {
      "text/plain": [
       "10229"
      ]
     },
     "execution_count": 31,
     "metadata": {},
     "output_type": "execute_result"
    }
   ],
   "source": [
    "len(weight)"
   ]
  },
  {
   "cell_type": "code",
   "execution_count": 27,
   "id": "240ea59a",
   "metadata": {},
   "outputs": [
    {
     "data": {
      "text/plain": [
       "array([[1.],\n",
       "       [1.],\n",
       "       [1.]])"
      ]
     },
     "execution_count": 27,
     "metadata": {},
     "output_type": "execute_result"
    }
   ],
   "source": [
    "weight[:3]"
   ]
  },
  {
   "cell_type": "code",
   "execution_count": 35,
   "id": "7173f599",
   "metadata": {},
   "outputs": [
    {
     "data": {
      "text/plain": [
       "(array([1.]), array([50.]))"
      ]
     },
     "execution_count": 35,
     "metadata": {},
     "output_type": "execute_result"
    }
   ],
   "source": [
    "min(weight), max(weight)"
   ]
  },
  {
   "cell_type": "code",
   "execution_count": 36,
   "id": "ad4e0071",
   "metadata": {},
   "outputs": [
    {
     "data": {
      "text/plain": [
       "array([ 1.,  5., 25., 50.])"
      ]
     },
     "execution_count": 36,
     "metadata": {},
     "output_type": "execute_result"
    }
   ],
   "source": [
    "np.unique(weight)"
   ]
  },
  {
   "cell_type": "code",
   "execution_count": 37,
   "id": "a6719ba1",
   "metadata": {},
   "outputs": [
    {
     "data": {
      "image/png": "[encoded data removed]",
      "text/plain": [
       "<Figure size 640x480 with 1 Axes>"
      ]
     },
     "metadata": {},
     "output_type": "display_data"
    }
   ],
   "source": [
    "import matplotlib.pyplot as plt\n",
    "_ = plt.hist(weight, bins='auto')  # arguments are passed to np.histogram\n",
    "plt.title(\"Histogram with 'auto' bins\")\n",
    "plt.show()"
   ]
  },
  {
   "cell_type": "code",
   "execution_count": 41,
   "id": "713aca03",
   "metadata": {},
   "outputs": [
    {
     "name": "stdout",
     "output_type": "stream",
     "text": [
      "9793\n",
      "412\n",
      "22\n",
      "2\n"
     ]
    }
   ],
   "source": [
    "for i in [1,5,25,50]:\n",
    "    print(np.count_nonzero(weight==i))"
   ]
  },
  {
   "cell_type": "code",
   "execution_count": 76,
   "id": "d3d34e85",
   "metadata": {},
   "outputs": [],
   "source": [
    "import torch\n",
    "import torch.nn as nn"
   ]
  },
  {
   "cell_type": "code",
   "execution_count": 136,
   "id": "92e2df79",
   "metadata": {},
   "outputs": [
    {
     "name": "stdout",
     "output_type": "stream",
     "text": [
      "output (PyTorch.MSE): 0.15999998152256012\n",
      "*debug*\n",
      "(input - target):\n",
      "tensor([[ 0.0000,  0.0000, -0.8000,  0.0000],\n",
      "        [ 0.0000,  0.0000, -0.8000,  0.0000],\n",
      "        [ 0.0000,  0.0000, -0.8000,  0.0000],\n",
      "        [ 0.0000,  0.0000, -0.8000,  0.0000]])\n",
      "(input - target) ** 2:\n",
      "tensor([[0.0000, 0.0000, 0.6400, 0.0000],\n",
      "        [0.0000, 0.0000, 0.6400, 0.0000],\n",
      "        [0.0000, 0.0000, 0.6400, 0.0000],\n",
      "        [0.0000, 0.0000, 0.6400, 0.0000]])\n",
      "((input - target) ** 2).mean():\n",
      "0.15999998152256012\n",
      "4\n",
      "((input - target) ** 2).sum():\n",
      "2.559999704360962\n",
      "((input - target) ** 2).sum()/input.shape[0]:\n",
      "0.15999998152256012\n",
      "*debug*\n",
      "output (non-weighted MSE): 0.15999998152256012\n"
     ]
    }
   ],
   "source": [
    "input = torch.FloatTensor([[.9, .9, .1, .1], \n",
    "                           [.9, .9, .1, .1], \n",
    "                           [.9, .9, .1, .1], \n",
    "                           [.9, .9, .1, .1]])\n",
    "target = torch.FloatTensor([[.9, .9, .9, .1], \n",
    "                            [.9, .9, .9, .1],\n",
    "                            [.9, .9, .9, .1],\n",
    "                            [.9, .9, .9, .1]])\n",
    "\n",
    "def non_weighted_mse_loss(input, target, weight):\n",
    "    if is_debug_on:\n",
    "        print(\"*debug*\")\n",
    "        print(f\"(input - target):\\n{(input - target)}\")\n",
    "        print(f\"(input - target) ** 2:\\n{(input - target) ** 2}\")\n",
    "        print(f\"((input - target) ** 2).mean():\\n{((input - target) ** 2).mean()}\")\n",
    "        print(input.shape[0])\n",
    "        print(f\"((input - target) ** 2).sum():\\n{((input - target) ** 2).sum()}\")\n",
    "        print(f\"((input - target) ** 2).sum()/input.shape[0]:\\n{((input - target) ** 2).sum()/(input.shape[0]*input.shape[1])}\")\n",
    "        print(\"*debug*\")\n",
    "    return ((input - target) ** 2).mean()\n",
    "\n",
    "loss = nn.MSELoss()\n",
    "print(f\"output (PyTorch.MSE): {loss(input, target)}\")\n",
    "\n",
    "loss = non_weighted_mse_loss\n",
    "print(f\"output (non-weighted MSE): {loss(input, target, weight_tensor)}\")"
   ]
  },
  {
   "cell_type": "code",
   "execution_count": 144,
   "id": "e7c5d10d",
   "metadata": {},
   "outputs": [
    {
     "name": "stdout",
     "output_type": "stream",
     "text": [
      "***EQUAL WEIGHTS***\n",
      "input: tensor([[0.9000, 0.9000, 0.1000, 0.1000],\n",
      "        [0.9000, 0.9000, 0.1000, 0.1000],\n",
      "        [0.9000, 0.9000, 0.1000, 0.1000],\n",
      "        [0.9000, 0.9000, 0.1000, 0.1000]])\n",
      "target: tensor([[0.9000, 0.9000, 0.9000, 0.1000],\n",
      "        [0.9000, 0.9000, 0.9000, 0.1000],\n",
      "        [0.9000, 0.9000, 0.9000, 0.1000],\n",
      "        [0.9000, 0.9000, 0.9000, 0.1000]])\n",
      "weight: tensor([[1.],\n",
      "        [1.],\n",
      "        [1.],\n",
      "        [1.]])\n",
      "*debug*\n",
      "(input - target):\n",
      "tensor([[ 0.0000,  0.0000, -0.8000,  0.0000],\n",
      "        [ 0.0000,  0.0000, -0.8000,  0.0000],\n",
      "        [ 0.0000,  0.0000, -0.8000,  0.0000],\n",
      "        [ 0.0000,  0.0000, -0.8000,  0.0000]])\n",
      "(input - target) ** 2:\n",
      "tensor([[0.0000, 0.0000, 0.6400, 0.0000],\n",
      "        [0.0000, 0.0000, 0.6400, 0.0000],\n",
      "        [0.0000, 0.0000, 0.6400, 0.0000],\n",
      "        [0.0000, 0.0000, 0.6400, 0.0000]])\n",
      "((input - target) ** 2).sum():\n",
      "2.559999704360962\n",
      "(weight * (input - target) ** 2):\n",
      "tensor([[0.0000, 0.0000, 0.6400, 0.0000],\n",
      "        [0.0000, 0.0000, 0.6400, 0.0000],\n",
      "        [0.0000, 0.0000, 0.6400, 0.0000],\n",
      "        [0.0000, 0.0000, 0.6400, 0.0000]])\n",
      "(weight * (input - target) ** 2).sum():\n",
      "2.559999704360962\n",
      "weight.sum():\n",
      "4.0\n",
      "nom = 2.559999704360962\n",
      "denom = 16.0\n",
      "*debug*\n",
      "output (weighted MSE): 2.559999704360962\n",
      "***DIFFERENT WEIGHTS***\n",
      "input: tensor([[0.9000, 0.9000, 0.1000, 0.1000],\n",
      "        [0.9000, 0.9000, 0.1000, 0.1000],\n",
      "        [0.9000, 0.9000, 0.1000, 0.1000],\n",
      "        [0.9000, 0.9000, 0.1000, 0.1000]])\n",
      "target: tensor([[0.9000, 0.9000, 0.9000, 0.1000],\n",
      "        [0.9000, 0.9000, 0.9000, 0.1000],\n",
      "        [0.9000, 0.9000, 0.9000, 0.1000],\n",
      "        [0.9000, 0.9000, 0.9000, 0.1000]])\n",
      "weight: tensor([[ 1.],\n",
      "        [ 5.],\n",
      "        [25.],\n",
      "        [ 1.]])\n",
      "*debug*\n",
      "(input - target):\n",
      "tensor([[ 0.0000,  0.0000, -0.8000,  0.0000],\n",
      "        [ 0.0000,  0.0000, -0.8000,  0.0000],\n",
      "        [ 0.0000,  0.0000, -0.8000,  0.0000],\n",
      "        [ 0.0000,  0.0000, -0.8000,  0.0000]])\n",
      "(input - target) ** 2:\n",
      "tensor([[0.0000, 0.0000, 0.6400, 0.0000],\n",
      "        [0.0000, 0.0000, 0.6400, 0.0000],\n",
      "        [0.0000, 0.0000, 0.6400, 0.0000],\n",
      "        [0.0000, 0.0000, 0.6400, 0.0000]])\n",
      "((input - target) ** 2).sum():\n",
      "2.559999704360962\n",
      "(weight * (input - target) ** 2):\n",
      "tensor([[ 0.0000,  0.0000,  0.6400,  0.0000],\n",
      "        [ 0.0000,  0.0000,  3.2000,  0.0000],\n",
      "        [ 0.0000,  0.0000, 16.0000,  0.0000],\n",
      "        [ 0.0000,  0.0000,  0.6400,  0.0000]])\n",
      "(weight * (input - target) ** 2).sum():\n",
      "20.479997634887695\n",
      "weight.sum():\n",
      "32.0\n",
      "nom = 20.479997634887695\n",
      "denom = 128.0\n",
      "*debug*\n",
      "output (weighted MSE): 20.479997634887695\n"
     ]
    }
   ],
   "source": [
    "is_debug_on = True\n",
    "def weighted_mse_loss(input, target, weight):\n",
    "    nom = (weight * (input - target) ** 2).sum()\n",
    "    denom = ((weight * input.shape[1])).sum()\n",
    "    if is_debug_on:\n",
    "        print(\"*debug*\")\n",
    "        print(f\"(input - target):\\n{(input - target)}\")\n",
    "        print(f\"(input - target) ** 2:\\n{(input - target) ** 2}\")\n",
    "        print(f\"((input - target) ** 2).sum():\\n{((input - target) ** 2).sum()}\")\n",
    "        print(f\"(weight * (input - target) ** 2):\\n{(weight * (input - target) ** 2)}\")\n",
    "        print(f\"(weight * (input - target) ** 2).sum():\\n{(weight * (input - target) ** 2).sum()}\")\n",
    "        print(f\"weight.sum():\\n{weight.sum()}\")\n",
    "        print(f\"nom = {nom}\")\n",
    "        print(f\"denom = {denom}\")\n",
    "        print(\"*debug*\")\n",
    "    return nom #/ denom\n",
    "    \n",
    "# input = torch.FloatTensor([[.9, .9, .1, .1], \n",
    "#                            [.9, .9, .9, .1]])\n",
    "# target = torch.FloatTensor([[.9, .9, .1, .1], \n",
    "#                             [.9, .9, .1, .1]])\n",
    "\n",
    "def test_weighted_loss(input, target, weight_tensor):\n",
    "    loss = weighted_mse_loss\n",
    "    print(f\"input: {input}\\ntarget: {target}\\nweight: {weight_tensor}\")\n",
    "    print(f\"output (weighted MSE): {loss(input, target, weight_tensor)}\")\n",
    "\n",
    "print(\"***EQUAL WEIGHTS***\")\n",
    "weight_tensor = torch.FloatTensor([[1.], [1.], [1.], [1.]])\n",
    "test_weighted_loss(input, target, weight_tensor)\n",
    "\n",
    "print(\"***DIFFERENT WEIGHTS***\")\n",
    "weight_tensor = torch.FloatTensor([[1.], [5.], [25.], [1.]])\n",
    "test_weighted_loss(input, target, weight_tensor)"
   ]
  },
  {
   "cell_type": "code",
   "execution_count": null,
   "id": "973fa2d0",
   "metadata": {},
   "outputs": [],
   "source": [
    "import torch \n",
    "def BCELoss_class_weighted(weights):\n",
    "\n",
    "    def loss(input, target):\n",
    "        input = torch.clamp(input,min=1e-7,max=1-1e-7)\n",
    "        bce = - weights[1] * target * torch.log(input) - (1 - target) * weights[0] * torch.log(1 - input)\n",
    "        return torch.mean(bce)\n",
    "\n",
    "    return loss\n",
    "\n",
    "loss = BCELoss_class_weighted\n",
    "# loss = torch.nn.BCELoss(reduction='none')\n",
    "\n",
    "weights = torch.rand(10,1)\n",
    "outputs = torch.rand(10,1)\n",
    "targets = torch.rand(10,1)\n",
    "\n",
    "intermediate_losses = loss(outputs, targets)\n",
    "final_loss = torch.mean(weights*intermediate_losses)"
   ]
  }
 ],
 "metadata": {
  "kernelspec": {
   "display_name": "Python 3 (ipykernel)",
   "language": "python",
   "name": "python3"
  },
  "language_info": {
   "codemirror_mode": {
    "name": "ipython",
    "version": 3
   },
   "file_extension": ".py",
   "mimetype": "text/x-python",
   "name": "python",
   "nbconvert_exporter": "python",
   "pygments_lexer": "ipython3",
   "version": "3.10.9"
  }
 },
 "nbformat": 4,
 "nbformat_minor": 5
}
